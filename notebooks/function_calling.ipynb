{
 "cells": [
  {
   "cell_type": "markdown",
   "metadata": {},
   "source": [
    "# Function Calling"
   ]
  },
  {
   "cell_type": "markdown",
   "metadata": {},
   "source": [
    "OpenAI API에서 제공하는 선택적으로 특정함수를 호출하도록 제안하는 기능  \n",
    "API의 tools에 functions 파라미터로 사용가능한 스키마를 제공하면, GPT에 의해 해당 기능을 호출하는 형태로 파라미터를 답한다.  \n",
    "함수 시그니처에 준수하는 JSON으로 응답하도록 미세조정되어있어 구조화된 데이터를 보다 안정적으로 얻을 수 있다.  "
   ]
  },
  {
   "cell_type": "markdown",
   "metadata": {},
   "source": [
    "지원 모델\n",
    "\n",
    "-   gpt-4o\n",
    "-   gpt-4-turbo\n",
    "-   gpt-3.5-turbo\n"
   ]
  },
  {
   "cell_type": "code",
   "execution_count": 1,
   "metadata": {},
   "outputs": [],
   "source": [
    "from openai import OpenAI\n",
    "import json"
   ]
  },
  {
   "cell_type": "markdown",
   "metadata": {},
   "source": [
    "## 입력데이터"
   ]
  },
  {
   "cell_type": "code",
   "execution_count": 2,
   "metadata": {},
   "outputs": [],
   "source": [
    "question = \"머지 정렬이란 무엇인가?\"\n",
    "answer = \"존 폰 노이만이 제안. 안정 정렬에 속하며, 분할 정복 알고리즘의 하나.\\\n",
    "          문제를 작은 2개의 문제로 분리하고 각각을 해결한 다음, 결과를 모아서 원래의 문제를 해결하는 전략.\\\n",
    "          시간복잡도는 O(NlogN)\""
   ]
  },
  {
   "cell_type": "code",
   "execution_count": 3,
   "metadata": {},
   "outputs": [],
   "source": [
    "test_paper = \"하나의 리스트를 두개의 균등한 크기로 분할을 하고,\\\n",
    "              분할된 부분 리스트들을 정렬을 한 다음에,\\\n",
    "              정렬된 부분 리스트들을 하나로 합쳐요\""
   ]
  },
  {
   "cell_type": "markdown",
   "metadata": {},
   "source": [
    "## 스키마"
   ]
  },
  {
   "cell_type": "markdown",
   "metadata": {},
   "source": [
    "정리된 아웃풋을 사용할 함수 형태\n",
    "\n",
    "```python\n",
    "def make_eval_sheet(score, feedback):\n",
    "    \"\"\"Make a sheet with score and feedback\"\"\"\n",
    "```"
   ]
  },
  {
   "cell_type": "markdown",
   "metadata": {},
   "source": [
    "Function Calling에 사용할 스키마 형태로 작성"
   ]
  },
  {
   "cell_type": "code",
   "execution_count": 4,
   "metadata": {},
   "outputs": [],
   "source": [
    "tools = [\n",
    "    {\n",
    "        \"type\": \"function\",\n",
    "        \"function\": {\n",
    "            \"name\": \"make_eval_sheet\",\n",
    "            \"description\": \"Make a sheet with score and feedback\",\n",
    "            \"parameters\": {\n",
    "                \"type\": \"object\",\n",
    "                \"properties\": {\n",
    "                    \"score\": {\n",
    "                        \"type\": \"number\",\n",
    "                        \"scope\": \"range(100)\",\n",
    "                        \"description\": \"Scoring the solution based on the presentation of the problem and answers. 100 points perfect\",\n",
    "                    },\n",
    "                    \"feedback\": {\n",
    "                        \"type\": \"string\", \n",
    "                        \"description\": \"Providing feedback on the solution based on the problem and answer. Answer in Korean\",\n",
    "                    },\n",
    "                },\n",
    "                \"required\": [\"score\"],\n",
    "            },\n",
    "        },\n",
    "    }\n",
    "]"
   ]
  },
  {
   "cell_type": "markdown",
   "metadata": {},
   "source": [
    "## Function Calling 실행"
   ]
  },
  {
   "cell_type": "code",
   "execution_count": 5,
   "metadata": {},
   "outputs": [],
   "source": [
    "eval_instruction = f\"The problem statement is '{question}', with the correct answer being '{answer}'.\\\n",
    "                     The student responded with '{test_paper}'.\\\n",
    "                     Please provide a score and feedback to create a report.\"\n",
    "\n",
    "messages = [{\"role\": \"user\", \"content\": eval_instruction}]"
   ]
  },
  {
   "cell_type": "code",
   "execution_count": 6,
   "metadata": {},
   "outputs": [
    {
     "data": {
      "text/plain": [
       "[ChatCompletionMessageToolCall(id='call_vN18ZsJcPwtn5nVAKxGUCmhK', function=Function(arguments='{\"score\":80,\"feedback\":\"좋은 시도였지만, 머지 정렬에 대한 설명이 부족합니다. 정확한 설명을 더 추가하여 완벽한 점수를 받을 수 있을 것입니다.\"}', name='make_eval_sheet'), type='function')]"
      ]
     },
     "execution_count": 6,
     "metadata": {},
     "output_type": "execute_result"
    }
   ],
   "source": [
    "client = OpenAI()\n",
    "response = client.chat.completions.create(\n",
    "    model=\"gpt-3.5-turbo\",\n",
    "    messages=messages,\n",
    "    temperature=0.4,\n",
    "    tools=tools,\n",
    "    tool_choice=\"auto\",\n",
    ")\n",
    "response_message = response.choices[0].message\n",
    "tool_calls = response_message.tool_calls\n",
    "tool_calls"
   ]
  },
  {
   "cell_type": "markdown",
   "metadata": {},
   "source": [
    "아웃풋 정리"
   ]
  },
  {
   "cell_type": "code",
   "execution_count": 7,
   "metadata": {},
   "outputs": [
    {
     "name": "stdout",
     "output_type": "stream",
     "text": [
      "점수:  80\n",
      "피드백:  좋은 시도였지만, 머지 정렬에 대한 설명이 부족합니다. 정확한 설명을 더 추가하여 완벽한 점수를 받을 수 있을 것입니다.\n"
     ]
    }
   ],
   "source": [
    "if tool_calls:\n",
    "    for tool_call in tool_calls:\n",
    "        function_args = json.loads(tool_call.function.arguments)\n",
    "        print(\"점수: \", function_args.get(\"score\"))\n",
    "        print(\"피드백: \", function_args.get(\"feedback\"))"
   ]
  }
 ],
 "metadata": {
  "kernelspec": {
   "display_name": "ai",
   "language": "python",
   "name": "python3"
  },
  "language_info": {
   "codemirror_mode": {
    "name": "ipython",
    "version": 3
   },
   "file_extension": ".py",
   "mimetype": "text/x-python",
   "name": "python",
   "nbconvert_exporter": "python",
   "pygments_lexer": "ipython3",
   "version": "3.10.13"
  }
 },
 "nbformat": 4,
 "nbformat_minor": 2
}
