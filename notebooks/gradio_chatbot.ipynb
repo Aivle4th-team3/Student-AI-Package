{
  "cells": [
    {
      "cell_type": "markdown",
      "metadata": {},
      "source": [
        "# Gradio"
      ]
    },
    {
      "cell_type": "markdown",
      "metadata": {},
      "source": [
        "Gradio에 미리 구축된 컴포넌트를 이용해서 채팅 서비스 테스트"
      ]
    },
    {
      "cell_type": "code",
      "execution_count": null,
      "metadata": {
        "id": "TwLz9sD_P5qf"
      },
      "outputs": [],
      "source": [
        "!pip install gradio\n",
        "!pip install openai"
      ]
    },
    {
      "cell_type": "markdown",
      "metadata": {},
      "source": [
        "## 프롬프트 템플릿"
      ]
    },
    {
      "cell_type": "code",
      "execution_count": 2,
      "metadata": {},
      "outputs": [
        {
          "data": {
            "text/plain": [
              "{'chat_instruction': ['너는 지금부터 사용자에게 공부를 배우는 학생 ai 야,',\n",
              "  '너는 초등학생, 중학생 정도의 어린 학생 ai 라서 사용자에게 존댓말만 써야 해.',\n",
              "  '너는 사용자에게 공부를 배우고 사용자에게 질문함으로써 상호작용할 거야,',\n",
              "  '질문은 한 번에 최대 2개씩만 해.',\n",
              "  '너는 학생 ai 니까 사용자가 말한 내용 안에서만 질문하고 대답해.',\n",
              "  '사용자가 질문해도, 학생 ai 이기 때문에 사용자에게 배운 내용이 아니면 모른다고 해야 돼.',\n",
              "  '사용자가 틀린 얘기를 해도, 너는 아는 게 적은 학생 ai 니까 그 말이 맞다고 믿어야 돼.'],\n",
              " 'eval_instruction': ['점수와 피드백 부분을 채워줘. 점수는 100점 만점으로 해줘.',\n",
              "  '문제: 반복문이란 무엇인가?',\n",
              "  '풀이: 반복문은 반복하는 명령문이다.',\n",
              "  '답: 반복문이란 프로그램 내에서 똑같은 명령을 일정 횟수만큼 반복하여 수행하도록 제어하는 명령문입니다.',\n",
              "  '점수와 피드백: 70:설명이 빈약합니다.',\n",
              "  '문제: 샤이니의 멤버 구성은 어떻게 되는가?',\n",
              "  '풀이: 샤이니는 온유, 정찬, 키, 인호 4명으로 이루어진 4인조 그룹입니다.',\n",
              "  '답: 샤이니는 온유, 종현, 키, 민호, 태민 5명으로 이루어진 5인조 그룹입니다.',\n",
              "  '점수와 피드백: 40:샤이니는 4인조 그룹이 아닌 온유, 종현, 키, 민호, 태민 5명으로 이루어진 5인조 그룹입니다.',\n",
              "  '문제: {question}',\n",
              "  '풀이: {test_paper}',\n",
              "  '답: {answer}',\n",
              "  '점수와 피드백: '],\n",
              " 'test_instruction': ['너는 지금부터 사용자가 말해준 내용으로 시험을 보는 학생 ai 야.',\n",
              "  '사용자가 말한 내용 안에서만 대답을 해.',\n",
              "  \"사용자가 언급하지 않은 내용이 시험 문제로 나오면 '모르겠어요'라고 대답해.\"]}"
            ]
          },
          "execution_count": 2,
          "metadata": {},
          "output_type": "execute_result"
        }
      ],
      "source": [
        "import json\n",
        "with open(\"../student_ai/template_text.json\", \"r\", encoding=\"utf-8\") as file:\n",
        "    template_text = json.load(file)\n",
        "template_text"
      ]
    },
    {
      "cell_type": "markdown",
      "metadata": {},
      "source": [
        "## 채팅 역할 제공 및 메시지 기록"
      ]
    },
    {
      "cell_type": "code",
      "execution_count": 3,
      "metadata": {
        "id": "2m_Q6P_VP4YZ"
      },
      "outputs": [],
      "source": [
        "def make_message(msg, history):\n",
        "    messages = []\n",
        "\n",
        "    for h in history:\n",
        "        messages.append({\"role\": \"user\", \"content\": h[0]})\n",
        "        messages.append({\"role\": \"assistant\", \"content\": h[1]})\n",
        "\n",
        "    messages.append({\"role\": \"system\",\n",
        "                     \"content\": '\\n'.join(template_text['chat_instruction'])})\n",
        "\n",
        "    messages.append({\"role\": \"user\", \"content\": msg})\n",
        "    return messages"
      ]
    },
    {
      "cell_type": "markdown",
      "metadata": {},
      "source": [
        "## Gradio 연결"
      ]
    },
    {
      "cell_type": "code",
      "execution_count": null,
      "metadata": {
        "id": "jf_nMLy8P0Zs"
      },
      "outputs": [],
      "source": [
        "import gradio as gr\n",
        "from openai import OpenAI\n",
        "\n",
        "client = OpenAI()\n",
        "\n",
        "def chat(msg, history):\n",
        "    response = client.chat.completions.create(\n",
        "        model=\"gpt-4\",\n",
        "        messages=make_message(msg, history),\n",
        "        temperature=0.5,\n",
        "    )\n",
        "    history.append((msg, response.choices[0].message.content))\n",
        "    return \"\", history\n",
        "\n",
        "with gr.Blocks() as demo:\n",
        "    chatbot = gr.Chatbot()\n",
        "    msg = gr.Textbox()\n",
        "    clear = gr.ClearButton([msg, chatbot])\n",
        "\n",
        "    msg.submit(chat, [msg, chatbot], [msg, chatbot])\n",
        "\n",
        "demo.launch(share=True)"
      ]
    },
    {
      "cell_type": "markdown",
      "metadata": {},
      "source": [
        "![Gradio](https://github.com/Aivle4th-team3/Student-AI-Package/assets/26417221/b28f5184-7644-45f1-a4b7-9ea316b8d014)"
      ]
    }
  ],
  "metadata": {
    "colab": {
      "provenance": []
    },
    "kernelspec": {
      "display_name": "Python 3",
      "name": "python3"
    },
    "language_info": {
      "codemirror_mode": {
        "name": "ipython",
        "version": 3
      },
      "file_extension": ".py",
      "mimetype": "text/x-python",
      "name": "python",
      "nbconvert_exporter": "python",
      "pygments_lexer": "ipython3",
      "version": "3.10.13"
    }
  },
  "nbformat": 4,
  "nbformat_minor": 0
}
