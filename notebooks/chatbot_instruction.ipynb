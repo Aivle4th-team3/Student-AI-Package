{
 "cells": [
  {
   "cell_type": "markdown",
   "metadata": {},
   "source": [
    "# Chatbot 패키지 설명서"
   ]
  },
  {
   "cell_type": "markdown",
   "metadata": {},
   "source": [
    "### 패키지설치"
   ]
  },
  {
   "cell_type": "code",
   "execution_count": null,
   "metadata": {},
   "outputs": [],
   "source": [
    "!pip install ../dist/student_ai-0.4.3-py3-none-any.whl"
   ]
  },
  {
   "cell_type": "markdown",
   "metadata": {},
   "source": [
    "### import"
   ]
  },
  {
   "cell_type": "code",
   "execution_count": null,
   "metadata": {},
   "outputs": [],
   "source": [
    "from student_ai import Chatbot"
   ]
  },
  {
   "cell_type": "markdown",
   "metadata": {},
   "source": [
    "### 인스턴스 생성\n",
    "\n",
    "-   파라미터\n",
    "\n",
    "    1.  llm_provider: 패키지에서 사용할 llm(대규모언어모델) 공급자\n",
    "\n",
    "        -   Options: OPENAI | GOOGLE | HUGGINGFACEHUB | OLLAMA\n",
    "\n",
    "    2.  embedding_provider: 임베딩모델 공급자\n",
    "\n",
    "        -   Options: OPENAI | GOOGLE | HUGGINGFACEHUB\n",
    "\n",
    "    3.  vectorstore_provider: 벡터스토어 공급자\n",
    "        -   Options: Chroma | FAISS | PINECONE\n"
   ]
  },
  {
   "cell_type": "code",
   "execution_count": 3,
   "metadata": {},
   "outputs": [],
   "source": [
    "chatbot = Chatbot(llm_provider=\"OPENAI\",\n",
    "                  embedding_provider=\"OPENAI\",\n",
    "                  vectorstore_provider=\"Chroma\",\n",
    "                  is_test=False)"
   ]
  },
  {
   "cell_type": "markdown",
   "metadata": {},
   "source": [
    "### 챗봇 대화\n",
    "\n",
    "-   파라미터\n",
    "\n",
    "    1. 채팅방 이름: 채팅 문맥이 저장되는 벡터저장소의 그룹. 자유로운 이름\n",
    "    2. 채팅 메시지\n"
   ]
  },
  {
   "cell_type": "code",
   "execution_count": 4,
   "metadata": {},
   "outputs": [
    {
     "name": "stdout",
     "output_type": "stream",
     "text": [
      "안녕하세요! 만나서 반가워요. 여러분은 어떤 주제에 대해 알고 계신가요?\n"
     ]
    },
    {
     "name": "stderr",
     "output_type": "stream",
     "text": [
      "Number of requested results 4 is greater than number of elements in index 1, updating n_results = 1\n",
      "Number of requested results 4 is greater than number of elements in index 1, updating n_results = 1\n"
     ]
    },
    {
     "name": "stdout",
     "output_type": "stream",
     "text": [
      "네, 좋아요! 머지 정렬에 대해 알려주시면 감사하겠습니다. 머지 정렬이란 무엇인가요? 그리고 어떻게 작동하나요?\n"
     ]
    },
    {
     "name": "stderr",
     "output_type": "stream",
     "text": [
      "Number of requested results 4 is greater than number of elements in index 2, updating n_results = 2\n",
      "Number of requested results 4 is greater than number of elements in index 2, updating n_results = 2\n"
     ]
    },
    {
     "name": "stdout",
     "output_type": "stream",
     "text": [
      "아, 그렇군요! 머지 정렬은 리스트를 분할하고, 그 부분 리스트들을 정렬한 후 다시 합치는 방법이군요. 그럼 머지 정렬이 어떤 경우에 효과적인지, 그리고 머지 정렬의 시간 복잡도는 어떻게 되나요?\n",
      "네, 그렇군요! 머지정렬의 시간복잡도가 O(NlogN)이라는 걸 배웠어요. 그런데, 이 시간복잡도가 무슨 의미인지, 또 머지정렬이란 어떤 알고리즘이에요?\n"
     ]
    },
    {
     "name": "stderr",
     "output_type": "stream",
     "text": [
      "Number of requested results 4 is greater than number of elements in index 1, updating n_results = 1\n",
      "Number of requested results 4 is greater than number of elements in index 1, updating n_results = 1\n"
     ]
    },
    {
     "name": "stdout",
     "output_type": "stream",
     "text": [
      "아, 그렇군요. 존 폰 노이만이 머지정렬을 제안했다는 걸 배웠어요. 그런데 존 폰 노이만이 누구신지, 그리고 머지정렬이 어떻게 동작하는지 설명해 주실 수 있을까요?\n"
     ]
    }
   ],
   "source": [
    "print(chatbot.chat(\"-test\", \"안녕. 만나서 반가워.\"))\n",
    "print(chatbot.chat(\"-test\", \"머지정렬에 대해서 배워볼게\"))\n",
    "print(chatbot.chat(\"-test\", \"머지정렬은 하나의 리스트를 두개의 균등한 크기로 분할을 하고,\\\n",
    "                            분할된 부분 리스트들을 정렬한 다음에,\\\n",
    "                            정렬된 부분 리스트들을 하나로 합치는 방법이야.\"))\n",
    "\n",
    "\n",
    "print(chatbot.chat(\"-test-2\", \"머지정렬의 시간복잡도는 O(NlogN)\"))\n",
    "print(chatbot.chat(\"-test-2\", \"존 폰 노이만이 머지정렬을 제안\"))"
   ]
  },
  {
   "cell_type": "markdown",
   "metadata": {},
   "source": [
    "### 벡터스토어\n",
    "\n",
    "```python\n",
    "chatbot.VectorStore(f\"{ai|human}\"-\"채팅방 이름\")\n",
    "```\n",
    "\n",
    "-   ai는 채팅봇의 응답 기록\n",
    "-   human은 입력자 응답기록\n"
   ]
  },
  {
   "cell_type": "code",
   "execution_count": 5,
   "metadata": {},
   "outputs": [
    {
     "name": "stderr",
     "output_type": "stream",
     "text": [
      "Number of requested results 4 is greater than number of elements in index 3, updating n_results = 3\n"
     ]
    }
   ],
   "source": [
    "similar_texts = chatbot.VectorStore(\"ai-test\").similarity_search(\"정렬\")"
   ]
  },
  {
   "cell_type": "markdown",
   "metadata": {},
   "source": [
    "유사도 높은 순으로 나열함"
   ]
  },
  {
   "cell_type": "code",
   "execution_count": 6,
   "metadata": {},
   "outputs": [
    {
     "name": "stdout",
     "output_type": "stream",
     "text": [
      "네, 좋아요! 머지 정렬에 대해 알려주시면 감사하겠습니다. 머지 정렬이란 무엇인가요? 그리고 어떻게 작동하나요?\n",
      "아, 그렇군요! 머지 정렬은 리스트를 분할하고, 그 부분 리스트들을 정렬한 후 다시 합치는 방법이군요. 그럼 머지 정렬이 어떤 경우에 효과적인지, 그리고 머지 정렬의 시간 복잡도는 어떻게 되나요?\n",
      "안녕하세요! 만나서 반가워요. 여러분은 어떤 주제에 대해 알고 계신가요?\n"
     ]
    }
   ],
   "source": [
    "for text in similar_texts:\n",
    "    print(text.page_content)"
   ]
  },
  {
   "cell_type": "markdown",
   "metadata": {},
   "source": [
    "### test 함수\n",
    "\n",
    "-   파라미터\n",
    "\n",
    "    1. 채팅방 이름\n",
    "\n",
    "-   반환\n",
    "\n",
    "    1.  시험 함수\n",
    "\n",
    "eval함수를 위한 시험 함수 생성기.  \n",
    "시험 템플릿을 내장.\n"
   ]
  },
  {
   "cell_type": "code",
   "execution_count": 7,
   "metadata": {},
   "outputs": [],
   "source": [
    "test = chatbot.test(\"-test\")"
   ]
  },
  {
   "cell_type": "markdown",
   "metadata": {},
   "source": [
    "#### 시험 함수\n",
    "\n",
    "이제까지 사용자와 대화한 내용을 바탕으로 질의에 대한 ai봇의 시험"
   ]
  },
  {
   "cell_type": "code",
   "execution_count": 8,
   "metadata": {},
   "outputs": [
    {
     "name": "stderr",
     "output_type": "stream",
     "text": [
      "Number of requested results 4 is greater than number of elements in index 3, updating n_results = 3\n",
      "Number of requested results 4 is greater than number of elements in index 3, updating n_results = 3\n"
     ]
    },
    {
     "data": {
      "text/plain": [
       "'머지 정렬은 하나의 리스트를 두 개의 균등한 크기로 분할하고, 분할된 부분 리스트들을 정렬한 다음, 다시 그 정렬된 부분 리스트들을 하나로 합치는 정렬 방법이에요.'"
      ]
     },
     "execution_count": 8,
     "metadata": {},
     "output_type": "execute_result"
    }
   ],
   "source": [
    "test(\"머지정렬이 뭐야?\")"
   ]
  },
  {
   "cell_type": "markdown",
   "metadata": {},
   "source": [
    "## eval 함수\n",
    "\n",
    "-   파라미터\n",
    "\n",
    "    1. 시험 함수\n",
    "\n",
    "-   반환\n",
    "\n",
    "    1.  평가 함수\n",
    "\n",
    "평가 함수 생성기.  \n",
    "평가 템플릿을 내장.\n"
   ]
  },
  {
   "cell_type": "code",
   "execution_count": 9,
   "metadata": {},
   "outputs": [],
   "source": [
    "eval = chatbot.eval(test)"
   ]
  },
  {
   "cell_type": "markdown",
   "metadata": {},
   "source": [
    "#### 평가 함수\n",
    "\n",
    "-   파라미터\n",
    "\n",
    "    1. 평가지 문제\n",
    "    2. 평가지 정답\n",
    "\n",
    "-   반환\n",
    "\n",
    "    1. 점수\n",
    "    2. 피드백\n",
    "    3. 봇의 시험 응답\n",
    "    4. 평가지 문제\n",
    "    5. 평가지 정답\n"
   ]
  },
  {
   "cell_type": "code",
   "execution_count": 10,
   "metadata": {},
   "outputs": [],
   "source": [
    "question = \"머지 정렬이란 무엇인가?\"\n",
    "answer = \"존 폰 노이만이 제안. 안정 정렬에 속하며, 분할 정복 알고리즘의 하나.\\\n",
    "          문제를 작은 2개의 문제로 분리하고 각각을 해결한 다음, 결과를 모아서 원래의 문제를 해결하는 전략.\\\n",
    "          시간복잡도는 O(NlogN)\""
   ]
  },
  {
   "cell_type": "code",
   "execution_count": 11,
   "metadata": {},
   "outputs": [
    {
     "data": {
      "text/plain": [
       "(90, '정확한 설명이지만, 머지 정렬의 시간복잡도나 안정 정렬에 속한다는 점 등 추가적인 정보를 더 제공하면 좋겠습니다.')"
      ]
     },
     "execution_count": 11,
     "metadata": {},
     "output_type": "execute_result"
    }
   ],
   "source": [
    "score, feedback, _, _, _ = eval(question, answer)\n",
    "\n",
    "score, feedback"
   ]
  }
 ],
 "metadata": {
  "kernelspec": {
   "display_name": "ai",
   "language": "python",
   "name": "python3"
  },
  "language_info": {
   "codemirror_mode": {
    "name": "ipython",
    "version": 3
   },
   "file_extension": ".py",
   "mimetype": "text/x-python",
   "name": "python",
   "nbconvert_exporter": "python",
   "pygments_lexer": "ipython3",
   "version": "3.10.13"
  }
 },
 "nbformat": 4,
 "nbformat_minor": 2
}
